{
 "cells": [
  {
   "cell_type": "code",
   "execution_count": 12,
   "id": "b13cec5a-ceba-4797-8f36-28e5af6ba473",
   "metadata": {},
   "outputs": [],
   "source": [
    "sys.path.append('/Documents/GitHub/utilities')"
   ]
  },
  {
   "cell_type": "code",
   "execution_count": 31,
   "id": "6c8d2463-7cd5-4427-8576-ccca4e3a466b",
   "metadata": {},
   "outputs": [],
   "source": [
    "import ccsu_pca\n",
    "import pandas as pd\n",
    "import importlib"
   ]
  },
  {
   "cell_type": "code",
   "execution_count": 53,
   "id": "96f8d6ec-722e-4e57-a508-cd0bd3df2510",
   "metadata": {},
   "outputs": [
    {
     "data": {
      "text/plain": [
       "<module 'ccsu_pca' from '/Users/steve.cultrera/Documents/GitHub/utilities/ccsu_pca.py'>"
      ]
     },
     "execution_count": 53,
     "metadata": {},
     "output_type": "execute_result"
    }
   ],
   "source": [
    "importlib.reload(ccsu_pca)"
   ]
  },
  {
   "cell_type": "code",
   "execution_count": 26,
   "id": "f6586fe8-155a-4745-9362-78082ed88954",
   "metadata": {},
   "outputs": [],
   "source": [
    "from sklearn import datasets"
   ]
  },
  {
   "cell_type": "code",
   "execution_count": 27,
   "id": "6494a195-6603-4f64-94a0-d6c87bce7ed0",
   "metadata": {},
   "outputs": [],
   "source": [
    "# load dataset\n",
    "iris = datasets.load_iris()\n",
    "df = pd.DataFrame(iris.data, columns=iris.feature_names)\n"
   ]
  },
  {
   "cell_type": "code",
   "execution_count": 54,
   "id": "457b2fec-b4ed-465e-973d-d853fe82cf43",
   "metadata": {},
   "outputs": [],
   "source": [
    "my_pca = ccsu_pca.get_pca(df, 2, True)"
   ]
  },
  {
   "cell_type": "code",
   "execution_count": 55,
   "id": "b2313da6-28cd-4f16-8ecf-de0309a8e717",
   "metadata": {},
   "outputs": [
    {
     "name": "stdout",
     "output_type": "stream",
     "text": [
      "                     PCA_00    PCA_01\n",
      "sepal length (cm)  0.521066  0.377418\n",
      "sepal width (cm)  -0.269347  0.923296\n",
      "petal length (cm)  0.580413  0.024492\n",
      "petal width (cm)   0.564857  0.066942\n"
     ]
    }
   ],
   "source": [
    "print(my_pca[0])"
   ]
  },
  {
   "cell_type": "code",
   "execution_count": 56,
   "id": "c07485ee-b8eb-46ba-8b64-ff13f7011eb5",
   "metadata": {},
   "outputs": [
    {
     "name": "stdout",
     "output_type": "stream",
     "text": [
      "        eigenvalue  proportion  cumulative\n",
      "PCA_00    2.938085    0.729624    0.729624\n",
      "PCA_01    0.920165    0.228508    0.958132\n"
     ]
    }
   ],
   "source": [
    "print(my_pca[1])"
   ]
  },
  {
   "cell_type": "code",
   "execution_count": 58,
   "id": "37f35fdb-9677-49d3-951e-c4352961f17f",
   "metadata": {},
   "outputs": [
    {
     "name": "stdout",
     "output_type": "stream",
     "text": [
      "column list\n"
     ]
    }
   ],
   "source": [
    "my_pca_2 = ccsu_pca.get_pca(df, 2, True, p_column_list = ['sepal length (cm)', 'sepal width (cm)'])"
   ]
  },
  {
   "cell_type": "code",
   "execution_count": 60,
   "id": "7f6e1b61-f0ec-447d-a054-19c2033b0bf5",
   "metadata": {},
   "outputs": [
    {
     "name": "stdout",
     "output_type": "stream",
     "text": [
      "                     PCA_00    PCA_01\n",
      "sepal length (cm)  0.707107  0.707107\n",
      "sepal width (cm)  -0.707107  0.707107\n",
      "        eigenvalue  proportion  cumulative\n",
      "PCA_00    1.125070    0.558785    0.558785\n",
      "PCA_01    0.888353    0.441215    1.000000\n"
     ]
    }
   ],
   "source": [
    "print(my_pca_2[0])\n",
    "print(my_pca_2[1])"
   ]
  },
  {
   "cell_type": "code",
   "execution_count": 61,
   "id": "ad4fbfd7-2d5a-4e32-a1b1-cf6c0d3bf513",
   "metadata": {},
   "outputs": [
    {
     "name": "stdout",
     "output_type": "stream",
     "text": [
      "column list\n"
     ]
    }
   ],
   "source": [
    "my_pca_2 = ccsu_pca.get_pca(df, 1, True, p_column_list = ['sepal length (cm)', 'sepal width (cm)'])"
   ]
  },
  {
   "cell_type": "code",
   "execution_count": 62,
   "id": "e776e59a-f515-4369-9bc0-9ec59ca58ee5",
   "metadata": {},
   "outputs": [
    {
     "name": "stdout",
     "output_type": "stream",
     "text": [
      "                     PCA_00\n",
      "sepal length (cm)  0.707107\n",
      "sepal width (cm)  -0.707107\n",
      "        eigenvalue  proportion  cumulative\n",
      "PCA_00     1.12507    0.558785    0.558785\n"
     ]
    }
   ],
   "source": [
    "print(my_pca_2[0])\n",
    "print(my_pca_2[1])"
   ]
  },
  {
   "cell_type": "code",
   "execution_count": null,
   "id": "12b7ff6b-3148-44e5-8352-b56b0d688639",
   "metadata": {},
   "outputs": [],
   "source": []
  }
 ],
 "metadata": {
  "kernelspec": {
   "display_name": "Python 3",
   "language": "python",
   "name": "python3"
  },
  "language_info": {
   "codemirror_mode": {
    "name": "ipython",
    "version": 3
   },
   "file_extension": ".py",
   "mimetype": "text/x-python",
   "name": "python",
   "nbconvert_exporter": "python",
   "pygments_lexer": "ipython3",
   "version": "3.8.8"
  }
 },
 "nbformat": 4,
 "nbformat_minor": 5
}
