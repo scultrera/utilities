{
 "cells": [
  {
   "cell_type": "code",
   "execution_count": 17,
   "id": "3eef686c-d070-407b-9fa1-bf526c28e55c",
   "metadata": {},
   "outputs": [],
   "source": [
    "from PIL import Image\n",
    "import os"
   ]
  },
  {
   "cell_type": "code",
   "execution_count": 27,
   "id": "c1701fc1-16b4-433a-9d18-d91810183a67",
   "metadata": {},
   "outputs": [],
   "source": [
    "input_DIR = '/Users/steve.cultrera/Documents/phone_images/apple/'\n",
    "output_DIR = '/Users/steve.cultrera/Documents/phone_images_small/apple/'\n",
    "\n",
    "input_DIR = '/Users/steve.cultrera/Documents/phone_images/not_apple/'\n",
    "output_DIR = '/Users/steve.cultrera/Documents/phone_images_small/not_apple/'\n"
   ]
  },
  {
   "cell_type": "code",
   "execution_count": 28,
   "id": "8b1a4b97-1ad8-465b-b263-87c3e8dc833f",
   "metadata": {},
   "outputs": [
    {
     "name": "stdout",
     "output_type": "stream",
     "text": [
      "Looking good!\n"
     ]
    }
   ],
   "source": [
    "if os.path.isdir(output_DIR) and os.path.exists(output_DIR):\n",
    "    print(\"Looking good!\")\n",
    "else:\n",
    "    print(\"Directory isn't right\")"
   ]
  },
  {
   "cell_type": "code",
   "execution_count": 29,
   "id": "c72446ef-b8f5-41e2-860e-0b5882f225de",
   "metadata": {},
   "outputs": [
    {
     "name": "stdout",
     "output_type": "stream",
     "text": [
      "Resizing Image:  phones51.png (400, 300)\n",
      "Resizing Image:  phones79.png (400, 337)\n",
      "Resizing Image:  phones86.png (267, 400)\n",
      "Resizing Image:  phones136.png (400, 267)\n",
      "Resizing Image:  phones122.png (267, 400)\n",
      "Resizing Image:  phones123.png (267, 400)\n",
      "Resizing Image:  phones87.png (400, 400)\n",
      "Resizing Image:  phones93.png (267, 400)\n",
      "Resizing Image:  phones78.png (400, 267)\n",
      "Resizing Image:  phones44.png (400, 225)\n",
      "Resizing Image:  phones50.png (300, 400)\n",
      "Resizing Image:  phones46.png (267, 400)\n",
      "Resizing Image:  phones121.png (400, 267)\n",
      "Resizing Image:  phones135.png (400, 267)\n",
      "Resizing Image:  phones108.png (320, 400)\n",
      "Resizing Image:  phones90.png (400, 267)\n",
      "Resizing Image:  phones47.png (268, 400)\n",
      "Resizing Image:  phones43.png (400, 267)\n",
      "Resizing Image:  phones124.png (400, 267)\n",
      "Resizing Image:  phones130.png (400, 267)\n",
      "Resizing Image:  phones80.png (267, 400)\n",
      "Resizing Image:  phones118.png (400, 321)\n",
      "Resizing Image:  phones94.png (400, 267)\n",
      "Resizing Image:  phones119.png (320, 400)\n",
      "Resizing Image:  phones81.png (400, 267)\n",
      "Resizing Image:  phones125.png (267, 400)\n",
      "Resizing Image:  phones42.png (267, 400)\n",
      "Resizing Image:  phones133.png (267, 400)\n",
      "Resizing Image:  phones132.png (400, 267)\n",
      "Resizing Image:  phones55.png (320, 400)\n",
      "Resizing Image:  phones69.png (282, 400)\n",
      "Resizing Image:  phones32.png (267, 400)\n",
      "Resizing Image:  phones26.png (320, 400)\n",
      "Resizing Image:  phones196.png (400, 267)\n",
      "Resizing Image:  phones169.png (400, 225)\n",
      "Resizing Image:  phones155.png (320, 400)\n",
      "Resizing Image:  phones141.png (400, 267)\n",
      "Resizing Image:  phones140.png (294, 400)\n",
      "Resizing Image:  phones154.png (400, 267)\n",
      "Resizing Image:  phones183.png (400, 268)\n",
      "Resizing Image:  phones197.png (400, 267)\n",
      "Resizing Image:  phones33.png (267, 400)\n",
      "Resizing Image:  phones9.png (400, 267)\n",
      "Resizing Image:  phones31.png (400, 226)\n",
      "Resizing Image:  phones19.png (320, 400)\n",
      "Resizing Image:  phones195.png (400, 267)\n",
      "Resizing Image:  phones142.png (267, 400)\n",
      "Resizing Image:  phones156.png (400, 267)\n",
      "Resizing Image:  phones157.png (267, 400)\n",
      "Resizing Image:  phones143.png (400, 267)\n",
      "Resizing Image:  phones194.png (400, 237)\n",
      "Resizing Image:  phones18.png (400, 266)\n",
      "Resizing Image:  phones30.png (400, 267)\n",
      "Resizing Image:  phones24.png (242, 400)\n",
      "Resizing Image:  phones184.png (300, 400)\n",
      "Resizing Image:  phones190.png (400, 315)\n",
      "Resizing Image:  phones20.png (267, 400)\n",
      "Resizing Image:  phones147.png (400, 267)\n",
      "Resizing Image:  phones153.png (400, 267)\n",
      "Resizing Image:  phones152.png (267, 400)\n",
      "Resizing Image:  phones35.png (400, 267)\n",
      "Resizing Image:  phones191.png (400, 400)\n",
      "Resizing Image:  phones185.png (400, 400)\n",
      "Resizing Image:  phones193.png (400, 267)\n",
      "Resizing Image:  phones187.png (400, 266)\n",
      "Resizing Image:  phones37.png (400, 267)\n",
      "Resizing Image:  phones23.png (353, 400)\n",
      "Resizing Image:  phones150.png (267, 400)\n",
      "Resizing Image:  phones178.png (400, 267)\n",
      "Resizing Image:  phones179.png (320, 400)\n",
      "Resizing Image:  phones192.png (267, 400)\n",
      "Resizing Image:  phones3.png (400, 267)\n",
      "Resizing Image:  phones148.png (400, 225)\n",
      "Resizing Image:  phones160.png (400, 267)\n",
      "Resizing Image:  phones161.png (267, 400)\n",
      "Resizing Image:  phones149.png (400, 394)\n",
      "Resizing Image:  phones2.png (400, 306)\n",
      "Resizing Image:  phones0.png (320, 400)\n",
      "Resizing Image:  phones10.png (267, 400)\n",
      "Resizing Image:  phones163.png (376, 400)\n",
      "Resizing Image:  phones162.png (400, 267)\n",
      "Resizing Image:  phones39.png (267, 400)\n",
      "Resizing Image:  phones189.png (300, 400)\n",
      "Resizing Image:  phones1.png (400, 265)\n",
      "Resizing Image:  phones29.png (267, 400)\n",
      "Resizing Image:  phones199.png (267, 400)\n",
      "Resizing Image:  phones15.png (400, 267)\n",
      "Resizing Image:  phones172.png (300, 400)\n",
      "Resizing Image:  phones14.png (279, 400)\n",
      "Resizing Image:  phones4.png (400, 314)\n",
      "Resizing Image:  phones6.png (400, 267)\n",
      "Resizing Image:  phones16.png (267, 400)\n",
      "Resizing Image:  phones165.png (400, 267)\n",
      "Resizing Image:  phones159.png (400, 267)\n",
      "Resizing Image:  phones164.png (400, 267)\n",
      "Resizing Image:  phones170.png (400, 267)\n",
      "Resizing Image:  phones17.png (320, 400)\n",
      "Resizing Image:  phones70.png (267, 400)\n",
      "Resizing Image:  phones64.png (400, 268)\n",
      "Resizing Image:  phones117.png (320, 400)\n",
      "Resizing Image:  phones116.png (400, 267)\n",
      "Resizing Image:  phones59.png (300, 400)\n",
      "Resizing Image:  phones71.png (267, 400)\n",
      "Resizing Image:  phones67.png (364, 400)\n",
      "Resizing Image:  phones128.png (267, 400)\n",
      "Resizing Image:  phones100.png (400, 267)\n",
      "Resizing Image:  phones115.png (320, 400)\n",
      "Resizing Image:  phones129.png (400, 300)\n",
      "Resizing Image:  phones66.png (400, 272)\n",
      "Resizing Image:  phones62.png (320, 400)\n",
      "Resizing Image:  phones76.png (400, 239)\n",
      "Resizing Image:  phones89.png (400, 266)\n",
      "Resizing Image:  phones138.png (400, 225)\n",
      "Resizing Image:  phones77.png (267, 400)\n",
      "Resizing Image:  phones112.png (400, 267)\n",
      "Resizing Image:  phones106.png (400, 267)\n",
      "Resizing Image:  phones107.png (267, 400)\n",
      "Resizing Image:  phones113.png (265, 400)\n"
     ]
    }
   ],
   "source": [
    "for filename in os.listdir(input_DIR):\n",
    "    if filename.endswith(\".png\") or filename.endswith(\".jpg\"):\n",
    "        img = Image.open(os.path.join(input_DIR, filename))\n",
    "        new_img = img.resize((224,224))\n",
    "        print(\"Resizing Image: \", filename, img.size)\n",
    "        new_img.save(os.path.join(output_DIR, filename))"
   ]
  },
  {
   "cell_type": "code",
   "execution_count": null,
   "id": "1660b221-f720-4c9a-92c5-00afc25f4a5a",
   "metadata": {},
   "outputs": [],
   "source": []
  }
 ],
 "metadata": {
  "kernelspec": {
   "display_name": "Python 3",
   "language": "python",
   "name": "python3"
  },
  "language_info": {
   "codemirror_mode": {
    "name": "ipython",
    "version": 3
   },
   "file_extension": ".py",
   "mimetype": "text/x-python",
   "name": "python",
   "nbconvert_exporter": "python",
   "pygments_lexer": "ipython3",
   "version": "3.8.8"
  }
 },
 "nbformat": 4,
 "nbformat_minor": 5
}
